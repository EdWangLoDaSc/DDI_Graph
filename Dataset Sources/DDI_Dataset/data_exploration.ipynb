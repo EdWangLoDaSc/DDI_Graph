{
  "cells": [
    {
      "cell_type": "markdown",
      "metadata": {
        "id": "view-in-github",
        "colab_type": "text"
      },
      "source": [
        "<a href=\"https://colab.research.google.com/github/EdWangLoDaSc/DDI_Graph/blob/main/Dataset%20Sources/DDI_Dataset/data_exploration.ipynb\" target=\"_parent\"><img src=\"https://colab.research.google.com/assets/colab-badge.svg\" alt=\"Open In Colab\"/></a>"
      ]
    },
    {
      "cell_type": "code",
      "execution_count": 1,
      "metadata": {
        "id": "o8edgdNCaMsV"
      },
      "outputs": [],
      "source": [
        "import pandas as pd\n",
        "import numpy as np\n",
        "\n",
        "import networkx as nx"
      ]
    },
    {
      "cell_type": "code",
      "source": [
        "from google.colab import drive\n",
        "drive.mount('/content/drive')"
      ],
      "metadata": {
        "id": "MK6jXLSUbMUL",
        "outputId": "b6abf522-819b-4188-eb8d-2a8963ef7404",
        "colab": {
          "base_uri": "https://localhost:8080/"
        }
      },
      "execution_count": 2,
      "outputs": [
        {
          "output_type": "stream",
          "name": "stdout",
          "text": [
            "Mounted at /content/drive\n"
          ]
        }
      ]
    },
    {
      "cell_type": "markdown",
      "metadata": {
        "id": "IhMY3zVJaMsW"
      },
      "source": [
        "# BioSNAP Processing\n"
      ]
    },
    {
      "cell_type": "code",
      "execution_count": 3,
      "metadata": {
        "id": "1mexiP5DaMsX",
        "outputId": "6a4aa22f-12aa-48a3-9925-5cbfb90d244a",
        "colab": {
          "base_uri": "https://localhost:8080/"
        }
      },
      "outputs": [
        {
          "output_type": "stream",
          "name": "stdout",
          "text": [
            "     drug1    drug2\n",
            "0  DB00862  DB00966\n",
            "1  DB00575  DB00806\n",
            "2  DB01242  DB08893\n",
            "3  DB01151  DB08883\n",
            "4  DB01235  DB01275\n",
            "  DrugBank ID     Accession Numbers          Common name          CAS  \\\n",
            "0     DB00001  BTD00024 | BIOD00024            Lepirudin  138068-37-8   \n",
            "1     DB00002  BTD00071 | BIOD00071            Cetuximab  205923-56-4   \n",
            "2     DB00003  BTD00001 | BIOD00001         Dornase alfa  143831-71-4   \n",
            "3     DB00004  BTD00084 | BIOD00084  Denileukin diftitox  173146-27-5   \n",
            "4     DB00005  BTD00052 | BIOD00052           Etanercept  185243-69-0   \n",
            "\n",
            "         UNII                                           Synonyms  \\\n",
            "0  Y43GF64R34  [Leu1, Thr2]-63-desulfohirudin | Desulfatohiru...   \n",
            "1  PQX0D8J21J                Cetuximab | Cétuximab | Cetuximabum   \n",
            "2  953A26OA1Y  Deoxyribonuclease (human clone 18-1 protein mo...   \n",
            "3  25E79B5CTM  Denileukin | Denileukin diftitox | Interleukin...   \n",
            "4  OP401G7OJC  Etanercept | etanercept-szzs | etanercept-ykro...   \n",
            "\n",
            "  Standard InChI Key  \n",
            "0                NaN  \n",
            "1                NaN  \n",
            "2                NaN  \n",
            "3                NaN  \n",
            "4                NaN  \n"
          ]
        }
      ],
      "source": [
        "# Specify the column names\n",
        "column_names = ['drug1', 'drug2']\n",
        "\n",
        "# Load the TSV file into a pandas DataFrame with the specified column names\n",
        "snap = pd.read_csv('/content/drive/MyDrive/DDI_Dataset/BioSNAP/ChCh-Miner_durgbank-chem-chem.tsv', sep='\\t', header=None, names=column_names)\n",
        "\n",
        "drugbank_name = pd.read_csv('/content/drive/MyDrive/DDI_Dataset/BioSNAP/drugbank vocabulary.csv')\n",
        "\n",
        "# Print the first few rows of the DataFrame to verify the column titles\n",
        "print(snap.head())\n",
        "print(drugbank_name.head())"
      ]
    },
    {
      "cell_type": "code",
      "execution_count": 39,
      "metadata": {
        "id": "1fp9rVBhaMsY",
        "outputId": "48172439-bf10-4d8c-aab5-d5060c1ee128",
        "colab": {
          "base_uri": "https://localhost:8080/"
        }
      },
      "outputs": [
        {
          "output_type": "stream",
          "name": "stdout",
          "text": [
            "     drug1    drug1_name    drug2            drug2_name    nodeA    nodeB\n",
            "0  DB00862    Vardenafil  DB00883  Isosorbide dinitrate  DB00862  DB00883\n",
            "1  DB00673    Aprepitant  DB00883  Isosorbide dinitrate  DB00673  DB00883\n",
            "2  DB00177     Valsartan  DB00883  Isosorbide dinitrate  DB00177  DB00883\n",
            "3  DB00834  Mifepristone  DB00883  Isosorbide dinitrate  DB00834  DB00883\n",
            "4  DB00820     Tadalafil  DB00883  Isosorbide dinitrate  DB00820  DB00883\n"
          ]
        }
      ],
      "source": [
        "# Merge snap with drugbank_name to match drug1 IDs with their common names\n",
        "merged1 = pd.merge(snap, drugbank_name, left_on='drug1', right_on='DrugBank ID')\n",
        "merged1 = merged1.rename(columns={'Common name': 'drug1_name'})\n",
        "\n",
        "# Drop unnecessary columns from the first merge\n",
        "merged1 = merged1[['drug1', 'drug2', 'drug1_name']]\n",
        "\n",
        "# Merge the result with drugbank_name again to match drug2 IDs with their common names\n",
        "merged_final = pd.merge(merged1, drugbank_name, left_on='drug2', right_on='DrugBank ID')\n",
        "merged_final = merged_final.rename(columns={'Common name': 'drug2_name'})\n",
        "\n",
        "# Drop unnecessary columns from the final DataFrame\n",
        "merged_final = merged_final[['drug1', 'drug1_name', 'drug2', 'drug2_name']]\n",
        "merged_final[['nodeA','nodeB']] = merged_final[['drug1', 'drug2']]\n",
        "\n",
        "# Print the first few rows of the final DataFrame to verify\n",
        "print(merged_final.head())\n",
        "\n",
        "\n",
        "output_path = '/content/drive/MyDrive/DDI_Dataset/BioSNAP/processed_drug_pairs_biosnap.csv'\n",
        "\n",
        "merged_final.to_csv(output_path, index=False)\n"
      ]
    },
    {
      "cell_type": "markdown",
      "metadata": {
        "id": "Rg2qyN-kaMsa"
      },
      "source": [
        "## Property"
      ]
    },
    {
      "cell_type": "code",
      "execution_count": 5,
      "metadata": {
        "id": "A0tJOKZ_aMsa",
        "outputId": "b175809b-d270-4a08-c87f-b3ca9199ffa9",
        "colab": {
          "base_uri": "https://localhost:8080/"
        }
      },
      "outputs": [
        {
          "output_type": "stream",
          "name": "stdout",
          "text": [
            "Number of nodes: 1397\n",
            "Number of edges: 16384\n",
            "Sparsity: 0.0168\n",
            "Maximum Degree: 142\n",
            "Minimum Degree: 1\n",
            "Average Betweenness Centrality: 0.001329528096814869\n",
            "Average Closeness Centrality: 0.3483634978469241\n",
            "Average Eigenvector Centrality: 0.018303386590821567\n",
            "Average Clustering Coefficient: 0.1028\n",
            "Modularity: 0.3348\n"
          ]
        }
      ],
      "source": [
        "import networkx as nx\n",
        "\n",
        "G = nx.Graph()\n",
        "\n",
        "# Add edges from the DataFrame. This also adds the nodes implicitly\n",
        "G.add_edges_from(snap.values)\n",
        "\n",
        "# Calculate properties\n",
        "N = G.number_of_nodes()  # Number of nodes\n",
        "E = G.number_of_edges()  # Number of edges\n",
        "sparsity = 2 * E / (N * (N - 1))  # Sparsity formula for undirected graphs\n",
        "\n",
        "# Maximum degree\n",
        "max_degree = max(dict(G.degree()).values())\n",
        "\n",
        "# Minimum degree\n",
        "min_degree = min(dict(G.degree()).values())\n",
        "\n",
        "betweenness_centrality = nx.betweenness_centrality(G)\n",
        "closeness_centrality = nx.closeness_centrality(G)\n",
        "eigenvector_centrality = nx.eigenvector_centrality(G, max_iter=1000)  # Increase max_iter if necessary\n",
        "clustering_coefficient = nx.average_clustering(G)\n",
        "modularity = nx.algorithms.community.modularity(G, nx.algorithms.community.greedy_modularity_communities(G))\n",
        "\n",
        "# Print basic properties\n",
        "print(f\"Number of nodes: {N}\")\n",
        "print(f\"Number of edges: {E}\")\n",
        "print(f\"Sparsity: {sparsity:.4f}\")\n",
        "print(f\"Maximum Degree: {max_degree}\")\n",
        "print(f\"Minimum Degree: {min_degree}\")\n",
        "\n",
        "# Print advanced metrics\n",
        "print(\"Average Betweenness Centrality:\", sum(betweenness_centrality.values()) / N)\n",
        "print(\"Average Closeness Centrality:\", sum(closeness_centrality.values()) / N)\n",
        "print(\"Average Eigenvector Centrality:\", sum(eigenvector_centrality.values()) / N)\n",
        "print(f\"Average Clustering Coefficient: {clustering_coefficient:.4f}\")\n",
        "print(f\"Modularity: {modularity:.4f}\")\n"
      ]
    },
    {
      "cell_type": "markdown",
      "metadata": {
        "id": "nOLBm5E6aMsb"
      },
      "source": [
        "# TWOSIDES"
      ]
    },
    {
      "cell_type": "code",
      "execution_count": 10,
      "metadata": {
        "id": "cZAL9a6naMsb",
        "outputId": "56b6e6e1-4439-4893-ba25-6d751721f45a",
        "colab": {
          "base_uri": "https://localhost:8080/"
        }
      },
      "outputs": [
        {
          "output_type": "stream",
          "name": "stdout",
          "text": [
            "Cleaned data has been saved to CSV.\n"
          ]
        },
        {
          "output_type": "stream",
          "name": "stderr",
          "text": [
            "<ipython-input-10-45891b0c762b>:30: FutureWarning: The default value of regex will change from True to False in a future version. In addition, single character regular expressions will *not* be treated as literal strings when regex=True.\n",
            "  df['name'] = df['name'].str.replace(\"'\", \"\").str.replace(\"\\\\\", \"\")\n"
          ]
        }
      ],
      "source": [
        "import csv\n",
        "\n",
        "# Input file path\n",
        "input_file_path = '/content/drive/MyDrive/DDI_Dataset/TWOSIDES/Names.txt'\n",
        "# Output CSV file path\n",
        "output_file_path = '/content/drive/MyDrive/DDI_Dataset/TWOSIDES/Names.csv'\n",
        "\n",
        "# Open the original text file and the new CSV file\n",
        "with open(input_file_path, 'r') as infile, open(output_file_path, 'w', newline='') as csvfile:\n",
        "    # Create a CSV writer object\n",
        "    csvwriter = csv.writer(csvfile)\n",
        "\n",
        "    # Write the header row\n",
        "    csvwriter.writerow(['code', 'name'])\n",
        "\n",
        "    # Read each line from the text file\n",
        "    for line in infile:\n",
        "        # Strip leading/trailing whitespace and split by tab to get the code and name\n",
        "        code, name = line.strip().split('\\t')\n",
        "        # Write the code and name to the CSV file\n",
        "        csvwriter.writerow([code, name])\n",
        "\n",
        "\n",
        "\n",
        "# Creating DataFrame\n",
        "df = pd.DataFrame(cid_name)\n",
        "\n",
        "# Clean the 'code' and 'name' columns by removing single quotes and backslashes\n",
        "df['code'] = df['code'].str.replace(\"'\", \"\")\n",
        "df['name'] = df['name'].str.replace(\"'\", \"\").str.replace(\"\\\\\", \"\")\n",
        "\n",
        "# Output CSV file path\n",
        "output_file_path = '/content/drive/MyDrive/DDI_Dataset/TWOSIDES/Names.csv'\n",
        "\n",
        "# Save the cleaned DataFrame to a CSV file\n",
        "df.to_csv(output_file_path, index=False)\n",
        "\n",
        "print(\"Cleaned data has been saved to CSV.\")\n"
      ]
    },
    {
      "cell_type": "code",
      "execution_count": 11,
      "metadata": {
        "id": "4HKpz4kxaMsb",
        "outputId": "1af174d3-e2c9-4df7-bac6-366df405ec2e",
        "colab": {
          "base_uri": "https://localhost:8080/"
        }
      },
      "outputs": [
        {
          "output_type": "stream",
          "name": "stdout",
          "text": [
            "     Unnamed: 0  CID000002244  CID000004609  CID000003696  CID000003446  \\\n",
            "0  CID000002244             0             1             1             1   \n",
            "1  CID000004609             1             0             0             1   \n",
            "\n",
            "   CID000004058  CID000004440  CID000004679  CID000003419  CID000002656  ...  \\\n",
            "0             1             0             1             1             1  ...   \n",
            "1             0             0             1             0             1  ...   \n",
            "\n",
            "   CID000005538  CID000000158  CID000003350  CID000002756  CID000002713  \\\n",
            "0             1             0             1             1             1   \n",
            "1             0             0             1             1             1   \n",
            "\n",
            "   CID000012620  CID000004917  CID000068844  CID000005514  CID000000119  \n",
            "0             0             1             1             1             1  \n",
            "1             0             1             0             0             0  \n",
            "\n",
            "[2 rows x 549 columns]\n",
            "              code                       name\n",
            "0     CID000000076     dehydroepiandrosterone\n",
            "1     CID000000085                  carnitine\n",
            "2     CID000000119                       GABA\n",
            "3     CID000000137  delta-aminolevulinic acid\n",
            "4     CID000000143                 leucovorin\n",
            "...            ...                        ...\n",
            "1621  CID025074886                 Cetrorelix\n",
            "1622  CID025077405          nafarelin acetate\n",
            "1623  CID025077993                  histrelin\n",
            "1624  CID044146714           insulin glargine\n",
            "1625  CID044387541                 sucralfate\n",
            "\n",
            "[1626 rows x 2 columns]\n"
          ]
        }
      ],
      "source": [
        "twosides = pd.read_csv('/content/drive/MyDrive/DDI_Dataset/TWOSIDES/drug_drug_matrix.csv')\n",
        "\n",
        "\n",
        "cid_name = pd.read_csv('/content/drive/MyDrive/DDI_Dataset/TWOSIDES/Names.csv')\n",
        "\n",
        "\n",
        "print(twosides.head(2))\n",
        "print(cid_name)\n"
      ]
    },
    {
      "cell_type": "code",
      "execution_count": 38,
      "metadata": {
        "id": "txVkCd1TaMsc",
        "outputId": "375fbc61-17fe-4ecc-ee0a-7309f31584a5",
        "colab": {
          "base_uri": "https://localhost:8080/"
        }
      },
      "outputs": [
        {
          "output_type": "stream",
          "name": "stdout",
          "text": [
            "              drug1         drug2  link            drug1_name  \\\n",
            "48564  CID000000119  CID000005039     1                  GABA   \n",
            "48565  CID000000596  CID000093860     1  cytosine arabinoside   \n",
            "48566  CID000000596  CID000005538     1  cytosine arabinoside   \n",
            "48567  CID000000596  CID000003350     1  cytosine arabinoside   \n",
            "48568  CID000000596  CID000002713     1  cytosine arabinoside   \n",
            "48569  CID000000596  CID000004917     1  cytosine arabinoside   \n",
            "48570  CID000003350  CID000093860     1           finasteride   \n",
            "48571  CID000004917  CID000093860     1      prochlorperazine   \n",
            "48572  CID000003350  CID000005538     1           finasteride   \n",
            "48573  CID000002756  CID000005538     1            cimetidine   \n",
            "48574  CID000004917  CID000005538     1      prochlorperazine   \n",
            "48575  CID000005514  CID000005538     1            topiramate   \n",
            "48576  CID000002713  CID000003350     1         chlorhexidine   \n",
            "48577  CID000003350  CID000004917     1           finasteride   \n",
            "48578  CID000003350  CID000005514     1           finasteride   \n",
            "48579  CID000002756  CID000004917     1            cimetidine   \n",
            "48580  CID000002756  CID000005514     1            cimetidine   \n",
            "48581  CID000002713  CID000004917     1         chlorhexidine   \n",
            "48582  CID000002713  CID000005514     1         chlorhexidine   \n",
            "48583  CID000004917  CID000005514     1      prochlorperazine   \n",
            "\n",
            "             drug2_name         nodeA         nodeB  \n",
            "48564        ranitidine  CID000000119  CID000005039  \n",
            "48565        bortezomib  CID000000596  CID000093860  \n",
            "48566     retinoic acid  CID000000596  CID000005538  \n",
            "48567       finasteride  CID000000596  CID000003350  \n",
            "48568     chlorhexidine  CID000000596  CID000002713  \n",
            "48569  prochlorperazine  CID000000596  CID000004917  \n",
            "48570        bortezomib  CID000003350  CID000093860  \n",
            "48571        bortezomib  CID000004917  CID000093860  \n",
            "48572     retinoic acid  CID000003350  CID000005538  \n",
            "48573     retinoic acid  CID000002756  CID000005538  \n",
            "48574     retinoic acid  CID000004917  CID000005538  \n",
            "48575     retinoic acid  CID000005514  CID000005538  \n",
            "48576       finasteride  CID000002713  CID000003350  \n",
            "48577  prochlorperazine  CID000003350  CID000004917  \n",
            "48578        topiramate  CID000003350  CID000005514  \n",
            "48579  prochlorperazine  CID000002756  CID000004917  \n",
            "48580        topiramate  CID000002756  CID000005514  \n",
            "48581  prochlorperazine  CID000002713  CID000004917  \n",
            "48582        topiramate  CID000002713  CID000005514  \n",
            "48583        topiramate  CID000004917  CID000005514  \n",
            "Number of nodes: 548\n",
            "Number of edges: 48584\n",
            "Sparsity: 0.3242\n",
            "Maximum Degree: 513\n",
            "Minimum Degree: 1\n",
            "Average Betweenness Centrality: 0.0012533881647427336\n",
            "Average Closeness Centrality: 0.6081689993102771\n",
            "Average Eigenvector Centrality: 0.03627542205523843\n",
            "Average Clustering Coefficient: 0.8163\n",
            "Modularity: 0.0770\n"
          ]
        }
      ],
      "source": [
        "# Initialize an empty list to hold the drug-drug pairs\n",
        "drug_pairs = []\n",
        "\n",
        "# Iterate over the DataFrame to find pairs with a link (value of 1)\n",
        "for i, row in twosides.iterrows():\n",
        "    drug1 = row['Unnamed: 0']\n",
        "    for drug2 in twosides.columns[1:]:  # Skip the first column which is 'Unnamed: 0'\n",
        "        if row[drug2] == 1:\n",
        "            # Append the pair and the link indicator to the list\n",
        "            drug_pairs.append([drug1, drug2, 1])\n",
        "\n",
        "# Convert the list to a DataFrame\n",
        "drug_pairs_df = pd.DataFrame(drug_pairs, columns=['drug1', 'drug2', 'link'])\n",
        "\n",
        "\n",
        "# Sort the drug identifiers within each row\n",
        "drug_pairs_df[['drug1', 'drug2']] = np.sort(drug_pairs_df[['drug1', 'drug2']], axis=1)\n",
        "\n",
        "# Drop duplicates\n",
        "drug_pairs_df = drug_pairs_df.drop_duplicates(['drug1', 'drug2']).reset_index(drop=True)\n",
        "drug_code_name_mapping = cid_name.drop_duplicates(subset='code').set_index('code')['name'].to_dict()\n",
        "\n",
        "# Apply the mapping to replace drug_codes with drug_names in drug_pairs_df\n",
        "drug_pairs_df['drug1_name'] = drug_pairs_df['drug1'].map(drug_code_name_mapping)\n",
        "drug_pairs_df['drug2_name'] = drug_pairs_df['drug2'].map(drug_code_name_mapping)\n",
        "\n",
        "drug_pairs_df[['nodeA','nodeB']] = drug_pairs_df[['drug1', 'drug2']]\n",
        "\n",
        "# Verify the mapping by displaying the first few rows\n",
        "print(drug_pairs_df.tail(20))\n",
        "output_path = '/content/drive/MyDrive/DDI_Dataset/TWOSIDES/processed_drug_pairs.csv'\n",
        "drug_pairs_df.to_csv(output_path, index=False)\n",
        "\n",
        "\n",
        "G = nx.Graph()\n",
        "\n",
        "# Iterate over DataFrame rows to add each drug interaction as an edge in the graph\n",
        "for index, row in drug_pairs_df.iterrows():\n",
        "    G.add_edge(row['drug1'], row['drug2'])\n",
        "\n",
        "# Now, calculate the properties based on this graph\n",
        "N = G.number_of_nodes()  # Number of nodes\n",
        "E = G.number_of_edges()  # Number of edges\n",
        "sparsity = 2 * E / (N * (N - 1)) if N > 1 else 0  # Sparsity formula, with check to avoid division by zero\n",
        "\n",
        "# Maximum degree\n",
        "max_degree = max(dict(G.degree()).values()) if N > 0 else 0\n",
        "\n",
        "# Minimum degree\n",
        "min_degree = min(dict(G.degree()).values()) if N > 0 else 0\n",
        "\n",
        "betweenness_centrality = nx.betweenness_centrality(G)\n",
        "closeness_centrality = nx.closeness_centrality(G)\n",
        "eigenvector_centrality = nx.eigenvector_centrality(G, max_iter=1000)  # Increase max_iter if necessary\n",
        "clustering_coefficient = nx.average_clustering(G)\n",
        "modularity = nx.algorithms.community.modularity(G, nx.algorithms.community.greedy_modularity_communities(G))\n",
        "\n",
        "# Print basic properties\n",
        "print(f\"Number of nodes: {N}\")\n",
        "print(f\"Number of edges: {E}\")\n",
        "print(f\"Sparsity: {sparsity:.4f}\")\n",
        "print(f\"Maximum Degree: {max_degree}\")\n",
        "print(f\"Minimum Degree: {min_degree}\")\n",
        "\n",
        "# Print advanced metrics\n",
        "print(\"Average Betweenness Centrality:\", sum(betweenness_centrality.values()) / N)\n",
        "print(\"Average Closeness Centrality:\", sum(closeness_centrality.values()) / N)\n",
        "print(\"Average Eigenvector Centrality:\", sum(eigenvector_centrality.values()) / N)\n",
        "print(f\"Average Clustering Coefficient: {clustering_coefficient:.4f}\")\n",
        "print(f\"Modularity: {modularity:.4f}\")\n",
        "\n",
        "\n"
      ]
    },
    {
      "cell_type": "markdown",
      "metadata": {
        "id": "QO7ejpqOaMsg"
      },
      "source": [
        "# DDInter"
      ]
    },
    {
      "cell_type": "code",
      "execution_count": 37,
      "metadata": {
        "id": "COuTFS1vaMsg"
      },
      "outputs": [],
      "source": [
        "ddinter = pd.read_csv('/content/drive/MyDrive/DDI_Dataset/DDInter/ddinter_downloads_code_R.csv')\n",
        "ddinter[['nodeA','nodeB']] = ddinter[['DDInterID_A','DDInterID_B']]\n",
        "ddinter.head()\n",
        "\n",
        "output_path = '/content/drive/MyDrive/DDI_Dataset/DDInter/processed_drug_pairs_DDInter.csv'\n",
        "\n",
        "ddinter.to_csv(output_path, index=False)"
      ]
    },
    {
      "cell_type": "code",
      "execution_count": 28,
      "metadata": {
        "id": "YYbhvznRaMsg",
        "outputId": "9ad9c5a6-c8a6-42eb-86ba-43d090e12a90",
        "colab": {
          "base_uri": "https://localhost:8080/"
        }
      },
      "outputs": [
        {
          "output_type": "stream",
          "name": "stdout",
          "text": [
            "Number of nodes: 1185\n",
            "Number of edges: 4527\n",
            "Sparsity: 0.0065\n",
            "Maximum Degree: 460\n",
            "Minimum Degree: 1\n",
            "Average Betweenness Centrality: 0.0015385719134501901\n",
            "Average Closeness Centrality: 0.36137263786722407\n",
            "Average Eigenvector Centrality: 0.018647247181594113\n",
            "Average Clustering Coefficient: 0.3259\n",
            "Modularity: 0.4335\n"
          ]
        }
      ],
      "source": [
        "import networkx as nx\n",
        "import pandas as pd\n",
        "\n",
        "# Example of loading the DataFrame\n",
        "# ddinter = pd.read_csv('path_to_your_ddinter.csv')\n",
        "\n",
        "G = nx.Graph()\n",
        "\n",
        "# Initialize a set to keep track of added edges to avoid duplicates\n",
        "added_edges = set()\n",
        "\n",
        "for index, row in ddinter.iterrows():\n",
        "    edge = (row['DDInterID_A'], row['DDInterID_B'])\n",
        "\n",
        "    # Check if either tuple or its reverse hasn't been added yet to ensure undirected uniqueness\n",
        "    if edge not in added_edges and (edge[1], edge[0]) not in added_edges:\n",
        "        G.add_edge(*edge)\n",
        "        added_edges.add(edge)\n",
        "\n",
        "# Calculate the properties\n",
        "N = G.number_of_nodes()  # Number of nodes\n",
        "E = G.number_of_edges()  # Number of edges\n",
        "sparsity = E / (N * (N - 1) / 2) if N > 1 else 0\n",
        "\n",
        "# Degree calculations\n",
        "degrees = dict(G.degree())\n",
        "max_degree = max(degrees.values())\n",
        "min_degree = min(degrees.values())\n",
        "\n",
        "# Centrality measures\n",
        "betweenness_centrality = nx.betweenness_centrality(G)\n",
        "closeness_centrality = nx.closeness_centrality(G)\n",
        "eigenvector_centrality = nx.eigenvector_centrality(G, max_iter=1000)  # Adjust max_iter if necessary\n",
        "clustering_coefficient = nx.average_clustering(G)\n",
        "\n",
        "# Modularity\n",
        "communities = list(nx.algorithms.community.greedy_modularity_communities(G))\n",
        "modularity = nx.algorithms.community.modularity(G, communities)\n",
        "\n",
        "# Print basic properties\n",
        "print(f\"Number of nodes: {N}\")\n",
        "print(f\"Number of edges: {E}\")\n",
        "print(f\"Sparsity: {sparsity:.4f}\")\n",
        "print(f\"Maximum Degree: {max_degree}\")\n",
        "print(f\"Minimum Degree: {min_degree}\")\n",
        "\n",
        "# Print advanced metrics\n",
        "print(\"Average Betweenness Centrality:\", sum(betweenness_centrality.values()) / N)\n",
        "print(\"Average Closeness Centrality:\", sum(closeness_centrality.values()) / N)\n",
        "print(\"Average Eigenvector Centrality:\", sum(eigenvector_centrality.values()) / N)\n",
        "print(f\"Average Clustering Coefficient: {clustering_coefficient:.4f}\")\n",
        "print(f\"Modularity: {modularity:.4f}\")\n",
        "\n",
        "\n",
        "\n"
      ]
    },
    {
      "cell_type": "markdown",
      "metadata": {
        "id": "NLDu0agxaMsh"
      },
      "source": [
        "# Analyze the overlap of different datasets' link pairs"
      ]
    },
    {
      "cell_type": "code",
      "execution_count": null,
      "metadata": {
        "id": "gtIwsYYhaMsh",
        "outputId": "76293da0-1f8b-4be5-c03a-469b739e7dc6"
      },
      "outputs": [
        {
          "ename": "ValueError",
          "evalue": "Wrong number of items passed 5, placement implies 1",
          "output_type": "error",
          "traceback": [
            "\u001b[0;31m---------------------------------------------------------------------------\u001b[0m",
            "\u001b[0;31mKeyError\u001b[0m                                  Traceback (most recent call last)",
            "\u001b[0;32m~/miniconda3/envs/ddi_gnn/lib/python3.7/site-packages/pandas/core/indexes/base.py\u001b[0m in \u001b[0;36mget_loc\u001b[0;34m(self, key, method, tolerance)\u001b[0m\n\u001b[1;32m   3360\u001b[0m             \u001b[0;32mtry\u001b[0m\u001b[0;34m:\u001b[0m\u001b[0;34m\u001b[0m\u001b[0;34m\u001b[0m\u001b[0m\n\u001b[0;32m-> 3361\u001b[0;31m                 \u001b[0;32mreturn\u001b[0m \u001b[0mself\u001b[0m\u001b[0;34m.\u001b[0m\u001b[0m_engine\u001b[0m\u001b[0;34m.\u001b[0m\u001b[0mget_loc\u001b[0m\u001b[0;34m(\u001b[0m\u001b[0mcasted_key\u001b[0m\u001b[0;34m)\u001b[0m\u001b[0;34m\u001b[0m\u001b[0;34m\u001b[0m\u001b[0m\n\u001b[0m\u001b[1;32m   3362\u001b[0m             \u001b[0;32mexcept\u001b[0m \u001b[0mKeyError\u001b[0m \u001b[0;32mas\u001b[0m \u001b[0merr\u001b[0m\u001b[0;34m:\u001b[0m\u001b[0;34m\u001b[0m\u001b[0;34m\u001b[0m\u001b[0m\n",
            "\u001b[0;32m~/miniconda3/envs/ddi_gnn/lib/python3.7/site-packages/pandas/_libs/index.pyx\u001b[0m in \u001b[0;36mpandas._libs.index.IndexEngine.get_loc\u001b[0;34m()\u001b[0m\n",
            "\u001b[0;32m~/miniconda3/envs/ddi_gnn/lib/python3.7/site-packages/pandas/_libs/index.pyx\u001b[0m in \u001b[0;36mpandas._libs.index.IndexEngine.get_loc\u001b[0;34m()\u001b[0m\n",
            "\u001b[0;32mpandas/_libs/hashtable_class_helper.pxi\u001b[0m in \u001b[0;36mpandas._libs.hashtable.PyObjectHashTable.get_item\u001b[0;34m()\u001b[0m\n",
            "\u001b[0;32mpandas/_libs/hashtable_class_helper.pxi\u001b[0m in \u001b[0;36mpandas._libs.hashtable.PyObjectHashTable.get_item\u001b[0;34m()\u001b[0m\n",
            "\u001b[0;31mKeyError\u001b[0m: 'pair'",
            "\nThe above exception was the direct cause of the following exception:\n",
            "\u001b[0;31mKeyError\u001b[0m                                  Traceback (most recent call last)",
            "\u001b[0;32m~/miniconda3/envs/ddi_gnn/lib/python3.7/site-packages/pandas/core/frame.py\u001b[0m in \u001b[0;36m_set_item_mgr\u001b[0;34m(self, key, value)\u001b[0m\n\u001b[1;32m   3750\u001b[0m         \u001b[0;32mtry\u001b[0m\u001b[0;34m:\u001b[0m\u001b[0;34m\u001b[0m\u001b[0;34m\u001b[0m\u001b[0m\n\u001b[0;32m-> 3751\u001b[0;31m             \u001b[0mloc\u001b[0m \u001b[0;34m=\u001b[0m \u001b[0mself\u001b[0m\u001b[0;34m.\u001b[0m\u001b[0m_info_axis\u001b[0m\u001b[0;34m.\u001b[0m\u001b[0mget_loc\u001b[0m\u001b[0;34m(\u001b[0m\u001b[0mkey\u001b[0m\u001b[0;34m)\u001b[0m\u001b[0;34m\u001b[0m\u001b[0;34m\u001b[0m\u001b[0m\n\u001b[0m\u001b[1;32m   3752\u001b[0m         \u001b[0;32mexcept\u001b[0m \u001b[0mKeyError\u001b[0m\u001b[0;34m:\u001b[0m\u001b[0;34m\u001b[0m\u001b[0;34m\u001b[0m\u001b[0m\n",
            "\u001b[0;32m~/miniconda3/envs/ddi_gnn/lib/python3.7/site-packages/pandas/core/indexes/base.py\u001b[0m in \u001b[0;36mget_loc\u001b[0;34m(self, key, method, tolerance)\u001b[0m\n\u001b[1;32m   3362\u001b[0m             \u001b[0;32mexcept\u001b[0m \u001b[0mKeyError\u001b[0m \u001b[0;32mas\u001b[0m \u001b[0merr\u001b[0m\u001b[0;34m:\u001b[0m\u001b[0;34m\u001b[0m\u001b[0;34m\u001b[0m\u001b[0m\n\u001b[0;32m-> 3363\u001b[0;31m                 \u001b[0;32mraise\u001b[0m \u001b[0mKeyError\u001b[0m\u001b[0;34m(\u001b[0m\u001b[0mkey\u001b[0m\u001b[0;34m)\u001b[0m \u001b[0;32mfrom\u001b[0m \u001b[0merr\u001b[0m\u001b[0;34m\u001b[0m\u001b[0;34m\u001b[0m\u001b[0m\n\u001b[0m\u001b[1;32m   3364\u001b[0m \u001b[0;34m\u001b[0m\u001b[0m\n",
            "\u001b[0;31mKeyError\u001b[0m: 'pair'",
            "\nDuring handling of the above exception, another exception occurred:\n",
            "\u001b[0;31mValueError\u001b[0m                                Traceback (most recent call last)",
            "\u001b[0;32m/tmp/ipykernel_3310372/150786314.py\u001b[0m in \u001b[0;36m<module>\u001b[0;34m\u001b[0m\n\u001b[1;32m      6\u001b[0m \u001b[0;31m# Then create unique pair identifiers as before\u001b[0m\u001b[0;34m\u001b[0m\u001b[0;34m\u001b[0m\u001b[0;34m\u001b[0m\u001b[0m\n\u001b[1;32m      7\u001b[0m \u001b[0mmerged_final\u001b[0m\u001b[0;34m[\u001b[0m\u001b[0;34m'pair'\u001b[0m\u001b[0;34m]\u001b[0m \u001b[0;34m=\u001b[0m \u001b[0mmerged_final\u001b[0m\u001b[0;34m.\u001b[0m\u001b[0mapply\u001b[0m\u001b[0;34m(\u001b[0m\u001b[0;32mlambda\u001b[0m \u001b[0mx\u001b[0m\u001b[0;34m:\u001b[0m \u001b[0;34m'-'\u001b[0m\u001b[0;34m.\u001b[0m\u001b[0mjoin\u001b[0m\u001b[0;34m(\u001b[0m\u001b[0msorted\u001b[0m\u001b[0;34m(\u001b[0m\u001b[0;34m[\u001b[0m\u001b[0mx\u001b[0m\u001b[0;34m[\u001b[0m\u001b[0;34m'drug1_name'\u001b[0m\u001b[0;34m]\u001b[0m\u001b[0;34m,\u001b[0m \u001b[0mx\u001b[0m\u001b[0;34m[\u001b[0m\u001b[0;34m'drug2_name'\u001b[0m\u001b[0;34m]\u001b[0m\u001b[0;34m]\u001b[0m\u001b[0;34m)\u001b[0m\u001b[0;34m)\u001b[0m\u001b[0;34m,\u001b[0m \u001b[0maxis\u001b[0m\u001b[0;34m=\u001b[0m\u001b[0;36m1\u001b[0m\u001b[0;34m)\u001b[0m\u001b[0;34m\u001b[0m\u001b[0;34m\u001b[0m\u001b[0m\n\u001b[0;32m----> 8\u001b[0;31m \u001b[0mdrug_pairs_df\u001b[0m\u001b[0;34m[\u001b[0m\u001b[0;34m'pair'\u001b[0m\u001b[0;34m]\u001b[0m \u001b[0;34m=\u001b[0m \u001b[0mdrug_pairs_df\u001b[0m\u001b[0;34m.\u001b[0m\u001b[0mapply\u001b[0m\u001b[0;34m(\u001b[0m\u001b[0;32mlambda\u001b[0m \u001b[0mx\u001b[0m\u001b[0;34m:\u001b[0m \u001b[0;34m'-'\u001b[0m\u001b[0;34m.\u001b[0m\u001b[0mjoin\u001b[0m\u001b[0;34m(\u001b[0m\u001b[0msorted\u001b[0m\u001b[0;34m(\u001b[0m\u001b[0;34m[\u001b[0m\u001b[0mx\u001b[0m\u001b[0;34m[\u001b[0m\u001b[0;34m'drug1_name'\u001b[0m\u001b[0;34m]\u001b[0m\u001b[0;34m,\u001b[0m \u001b[0mx\u001b[0m\u001b[0;34m[\u001b[0m\u001b[0;34m'drug2_name'\u001b[0m\u001b[0;34m]\u001b[0m\u001b[0;34m]\u001b[0m\u001b[0;34m)\u001b[0m\u001b[0;34m)\u001b[0m\u001b[0;34m,\u001b[0m \u001b[0maxis\u001b[0m\u001b[0;34m=\u001b[0m\u001b[0;36m1\u001b[0m\u001b[0;34m)\u001b[0m\u001b[0;34m\u001b[0m\u001b[0;34m\u001b[0m\u001b[0m\n\u001b[0m\u001b[1;32m      9\u001b[0m \u001b[0mddinter\u001b[0m\u001b[0;34m[\u001b[0m\u001b[0;34m'pair'\u001b[0m\u001b[0;34m]\u001b[0m \u001b[0;34m=\u001b[0m \u001b[0mddinter\u001b[0m\u001b[0;34m.\u001b[0m\u001b[0mapply\u001b[0m\u001b[0;34m(\u001b[0m\u001b[0;32mlambda\u001b[0m \u001b[0mx\u001b[0m\u001b[0;34m:\u001b[0m \u001b[0;34m'-'\u001b[0m\u001b[0;34m.\u001b[0m\u001b[0mjoin\u001b[0m\u001b[0;34m(\u001b[0m\u001b[0msorted\u001b[0m\u001b[0;34m(\u001b[0m\u001b[0;34m[\u001b[0m\u001b[0mx\u001b[0m\u001b[0;34m[\u001b[0m\u001b[0;34m'Drug_A'\u001b[0m\u001b[0;34m]\u001b[0m\u001b[0;34m,\u001b[0m \u001b[0mx\u001b[0m\u001b[0;34m[\u001b[0m\u001b[0;34m'Drug_B'\u001b[0m\u001b[0;34m]\u001b[0m\u001b[0;34m]\u001b[0m\u001b[0;34m)\u001b[0m\u001b[0;34m)\u001b[0m\u001b[0;34m,\u001b[0m \u001b[0maxis\u001b[0m\u001b[0;34m=\u001b[0m\u001b[0;36m1\u001b[0m\u001b[0;34m)\u001b[0m\u001b[0;34m\u001b[0m\u001b[0;34m\u001b[0m\u001b[0m\n\u001b[1;32m     10\u001b[0m \u001b[0;31m# Example for one DataFrame, apply the same logic for others\u001b[0m\u001b[0;34m\u001b[0m\u001b[0;34m\u001b[0m\u001b[0;34m\u001b[0m\u001b[0m\n",
            "\u001b[0;32m~/miniconda3/envs/ddi_gnn/lib/python3.7/site-packages/pandas/core/frame.py\u001b[0m in \u001b[0;36m__setitem__\u001b[0;34m(self, key, value)\u001b[0m\n\u001b[1;32m   3600\u001b[0m             \u001b[0mself\u001b[0m\u001b[0;34m.\u001b[0m\u001b[0m_setitem_array\u001b[0m\u001b[0;34m(\u001b[0m\u001b[0mkey\u001b[0m\u001b[0;34m,\u001b[0m \u001b[0mvalue\u001b[0m\u001b[0;34m)\u001b[0m\u001b[0;34m\u001b[0m\u001b[0;34m\u001b[0m\u001b[0m\n\u001b[1;32m   3601\u001b[0m         \u001b[0;32melif\u001b[0m \u001b[0misinstance\u001b[0m\u001b[0;34m(\u001b[0m\u001b[0mvalue\u001b[0m\u001b[0;34m,\u001b[0m \u001b[0mDataFrame\u001b[0m\u001b[0;34m)\u001b[0m\u001b[0;34m:\u001b[0m\u001b[0;34m\u001b[0m\u001b[0;34m\u001b[0m\u001b[0m\n\u001b[0;32m-> 3602\u001b[0;31m             \u001b[0mself\u001b[0m\u001b[0;34m.\u001b[0m\u001b[0m_set_item_frame_value\u001b[0m\u001b[0;34m(\u001b[0m\u001b[0mkey\u001b[0m\u001b[0;34m,\u001b[0m \u001b[0mvalue\u001b[0m\u001b[0;34m)\u001b[0m\u001b[0;34m\u001b[0m\u001b[0;34m\u001b[0m\u001b[0m\n\u001b[0m\u001b[1;32m   3603\u001b[0m         elif (\n\u001b[1;32m   3604\u001b[0m             \u001b[0mis_list_like\u001b[0m\u001b[0;34m(\u001b[0m\u001b[0mvalue\u001b[0m\u001b[0;34m)\u001b[0m\u001b[0;34m\u001b[0m\u001b[0;34m\u001b[0m\u001b[0m\n",
            "\u001b[0;32m~/miniconda3/envs/ddi_gnn/lib/python3.7/site-packages/pandas/core/frame.py\u001b[0m in \u001b[0;36m_set_item_frame_value\u001b[0;34m(self, key, value)\u001b[0m\n\u001b[1;32m   3740\u001b[0m         \u001b[0;31m# now align rows\u001b[0m\u001b[0;34m\u001b[0m\u001b[0;34m\u001b[0m\u001b[0;34m\u001b[0m\u001b[0m\n\u001b[1;32m   3741\u001b[0m         \u001b[0marraylike\u001b[0m \u001b[0;34m=\u001b[0m \u001b[0m_reindex_for_setitem\u001b[0m\u001b[0;34m(\u001b[0m\u001b[0mvalue\u001b[0m\u001b[0;34m,\u001b[0m \u001b[0mself\u001b[0m\u001b[0;34m.\u001b[0m\u001b[0mindex\u001b[0m\u001b[0;34m)\u001b[0m\u001b[0;34m\u001b[0m\u001b[0;34m\u001b[0m\u001b[0m\n\u001b[0;32m-> 3742\u001b[0;31m         \u001b[0mself\u001b[0m\u001b[0;34m.\u001b[0m\u001b[0m_set_item_mgr\u001b[0m\u001b[0;34m(\u001b[0m\u001b[0mkey\u001b[0m\u001b[0;34m,\u001b[0m \u001b[0marraylike\u001b[0m\u001b[0;34m)\u001b[0m\u001b[0;34m\u001b[0m\u001b[0;34m\u001b[0m\u001b[0m\n\u001b[0m\u001b[1;32m   3743\u001b[0m \u001b[0;34m\u001b[0m\u001b[0m\n\u001b[1;32m   3744\u001b[0m     \u001b[0;32mdef\u001b[0m \u001b[0m_iset_item_mgr\u001b[0m\u001b[0;34m(\u001b[0m\u001b[0mself\u001b[0m\u001b[0;34m,\u001b[0m \u001b[0mloc\u001b[0m\u001b[0;34m:\u001b[0m \u001b[0mint\u001b[0m \u001b[0;34m|\u001b[0m \u001b[0mslice\u001b[0m \u001b[0;34m|\u001b[0m \u001b[0mnp\u001b[0m\u001b[0;34m.\u001b[0m\u001b[0mndarray\u001b[0m\u001b[0;34m,\u001b[0m \u001b[0mvalue\u001b[0m\u001b[0;34m)\u001b[0m \u001b[0;34m->\u001b[0m \u001b[0;32mNone\u001b[0m\u001b[0;34m:\u001b[0m\u001b[0;34m\u001b[0m\u001b[0;34m\u001b[0m\u001b[0m\n",
            "\u001b[0;32m~/miniconda3/envs/ddi_gnn/lib/python3.7/site-packages/pandas/core/frame.py\u001b[0m in \u001b[0;36m_set_item_mgr\u001b[0;34m(self, key, value)\u001b[0m\n\u001b[1;32m   3752\u001b[0m         \u001b[0;32mexcept\u001b[0m \u001b[0mKeyError\u001b[0m\u001b[0;34m:\u001b[0m\u001b[0;34m\u001b[0m\u001b[0;34m\u001b[0m\u001b[0m\n\u001b[1;32m   3753\u001b[0m             \u001b[0;31m# This item wasn't present, just insert at end\u001b[0m\u001b[0;34m\u001b[0m\u001b[0;34m\u001b[0m\u001b[0;34m\u001b[0m\u001b[0m\n\u001b[0;32m-> 3754\u001b[0;31m             \u001b[0mself\u001b[0m\u001b[0;34m.\u001b[0m\u001b[0m_mgr\u001b[0m\u001b[0;34m.\u001b[0m\u001b[0minsert\u001b[0m\u001b[0;34m(\u001b[0m\u001b[0mlen\u001b[0m\u001b[0;34m(\u001b[0m\u001b[0mself\u001b[0m\u001b[0;34m.\u001b[0m\u001b[0m_info_axis\u001b[0m\u001b[0;34m)\u001b[0m\u001b[0;34m,\u001b[0m \u001b[0mkey\u001b[0m\u001b[0;34m,\u001b[0m \u001b[0mvalue\u001b[0m\u001b[0;34m)\u001b[0m\u001b[0;34m\u001b[0m\u001b[0;34m\u001b[0m\u001b[0m\n\u001b[0m\u001b[1;32m   3755\u001b[0m         \u001b[0;32melse\u001b[0m\u001b[0;34m:\u001b[0m\u001b[0;34m\u001b[0m\u001b[0;34m\u001b[0m\u001b[0m\n\u001b[1;32m   3756\u001b[0m             \u001b[0mself\u001b[0m\u001b[0;34m.\u001b[0m\u001b[0m_iset_item_mgr\u001b[0m\u001b[0;34m(\u001b[0m\u001b[0mloc\u001b[0m\u001b[0;34m,\u001b[0m \u001b[0mvalue\u001b[0m\u001b[0;34m)\u001b[0m\u001b[0;34m\u001b[0m\u001b[0;34m\u001b[0m\u001b[0m\n",
            "\u001b[0;32m~/miniconda3/envs/ddi_gnn/lib/python3.7/site-packages/pandas/core/internals/managers.py\u001b[0m in \u001b[0;36minsert\u001b[0;34m(self, loc, item, value)\u001b[0m\n\u001b[1;32m   1160\u001b[0m             \u001b[0mvalue\u001b[0m \u001b[0;34m=\u001b[0m \u001b[0mensure_block_shape\u001b[0m\u001b[0;34m(\u001b[0m\u001b[0mvalue\u001b[0m\u001b[0;34m,\u001b[0m \u001b[0mndim\u001b[0m\u001b[0;34m=\u001b[0m\u001b[0mself\u001b[0m\u001b[0;34m.\u001b[0m\u001b[0mndim\u001b[0m\u001b[0;34m)\u001b[0m\u001b[0;34m\u001b[0m\u001b[0;34m\u001b[0m\u001b[0m\n\u001b[1;32m   1161\u001b[0m \u001b[0;34m\u001b[0m\u001b[0m\n\u001b[0;32m-> 1162\u001b[0;31m         \u001b[0mblock\u001b[0m \u001b[0;34m=\u001b[0m \u001b[0mnew_block\u001b[0m\u001b[0;34m(\u001b[0m\u001b[0mvalues\u001b[0m\u001b[0;34m=\u001b[0m\u001b[0mvalue\u001b[0m\u001b[0;34m,\u001b[0m \u001b[0mndim\u001b[0m\u001b[0;34m=\u001b[0m\u001b[0mself\u001b[0m\u001b[0;34m.\u001b[0m\u001b[0mndim\u001b[0m\u001b[0;34m,\u001b[0m \u001b[0mplacement\u001b[0m\u001b[0;34m=\u001b[0m\u001b[0mslice\u001b[0m\u001b[0;34m(\u001b[0m\u001b[0mloc\u001b[0m\u001b[0;34m,\u001b[0m \u001b[0mloc\u001b[0m \u001b[0;34m+\u001b[0m \u001b[0;36m1\u001b[0m\u001b[0;34m)\u001b[0m\u001b[0;34m)\u001b[0m\u001b[0;34m\u001b[0m\u001b[0;34m\u001b[0m\u001b[0m\n\u001b[0m\u001b[1;32m   1163\u001b[0m \u001b[0;34m\u001b[0m\u001b[0m\n\u001b[1;32m   1164\u001b[0m         \u001b[0;32mfor\u001b[0m \u001b[0mblkno\u001b[0m\u001b[0;34m,\u001b[0m \u001b[0mcount\u001b[0m \u001b[0;32min\u001b[0m \u001b[0m_fast_count_smallints\u001b[0m\u001b[0;34m(\u001b[0m\u001b[0mself\u001b[0m\u001b[0;34m.\u001b[0m\u001b[0mblknos\u001b[0m\u001b[0;34m[\u001b[0m\u001b[0mloc\u001b[0m\u001b[0;34m:\u001b[0m\u001b[0;34m]\u001b[0m\u001b[0;34m)\u001b[0m\u001b[0;34m:\u001b[0m\u001b[0;34m\u001b[0m\u001b[0;34m\u001b[0m\u001b[0m\n",
            "\u001b[0;32m~/miniconda3/envs/ddi_gnn/lib/python3.7/site-packages/pandas/core/internals/blocks.py\u001b[0m in \u001b[0;36mnew_block\u001b[0;34m(values, placement, ndim, klass)\u001b[0m\n\u001b[1;32m   1935\u001b[0m \u001b[0;34m\u001b[0m\u001b[0m\n\u001b[1;32m   1936\u001b[0m     \u001b[0mvalues\u001b[0m\u001b[0;34m,\u001b[0m \u001b[0m_\u001b[0m \u001b[0;34m=\u001b[0m \u001b[0mextract_pandas_array\u001b[0m\u001b[0;34m(\u001b[0m\u001b[0mvalues\u001b[0m\u001b[0;34m,\u001b[0m \u001b[0;32mNone\u001b[0m\u001b[0;34m,\u001b[0m \u001b[0mndim\u001b[0m\u001b[0;34m)\u001b[0m\u001b[0;34m\u001b[0m\u001b[0;34m\u001b[0m\u001b[0m\n\u001b[0;32m-> 1937\u001b[0;31m     \u001b[0mcheck_ndim\u001b[0m\u001b[0;34m(\u001b[0m\u001b[0mvalues\u001b[0m\u001b[0;34m,\u001b[0m \u001b[0mplacement\u001b[0m\u001b[0;34m,\u001b[0m \u001b[0mndim\u001b[0m\u001b[0;34m)\u001b[0m\u001b[0;34m\u001b[0m\u001b[0;34m\u001b[0m\u001b[0m\n\u001b[0m\u001b[1;32m   1938\u001b[0m \u001b[0;34m\u001b[0m\u001b[0m\n\u001b[1;32m   1939\u001b[0m     \u001b[0;32mif\u001b[0m \u001b[0mklass\u001b[0m \u001b[0;32mis\u001b[0m \u001b[0;32mNone\u001b[0m\u001b[0;34m:\u001b[0m\u001b[0;34m\u001b[0m\u001b[0;34m\u001b[0m\u001b[0m\n",
            "\u001b[0;32m~/miniconda3/envs/ddi_gnn/lib/python3.7/site-packages/pandas/core/internals/blocks.py\u001b[0m in \u001b[0;36mcheck_ndim\u001b[0;34m(values, placement, ndim)\u001b[0m\n\u001b[1;32m   1978\u001b[0m         \u001b[0;32mif\u001b[0m \u001b[0mlen\u001b[0m\u001b[0;34m(\u001b[0m\u001b[0mplacement\u001b[0m\u001b[0;34m)\u001b[0m \u001b[0;34m!=\u001b[0m \u001b[0mlen\u001b[0m\u001b[0;34m(\u001b[0m\u001b[0mvalues\u001b[0m\u001b[0;34m)\u001b[0m\u001b[0;34m:\u001b[0m\u001b[0;34m\u001b[0m\u001b[0;34m\u001b[0m\u001b[0m\n\u001b[1;32m   1979\u001b[0m             raise ValueError(\n\u001b[0;32m-> 1980\u001b[0;31m                 \u001b[0;34mf\"Wrong number of items passed {len(values)}, \"\u001b[0m\u001b[0;34m\u001b[0m\u001b[0;34m\u001b[0m\u001b[0m\n\u001b[0m\u001b[1;32m   1981\u001b[0m                 \u001b[0;34mf\"placement implies {len(placement)}\"\u001b[0m\u001b[0;34m\u001b[0m\u001b[0;34m\u001b[0m\u001b[0m\n\u001b[1;32m   1982\u001b[0m             )\n",
            "\u001b[0;31mValueError\u001b[0m: Wrong number of items passed 5, placement implies 1"
          ]
        }
      ],
      "source": [
        "# Filter out rows where either drug1_name or drug2_name is NaN before creating pairs\n",
        "merged_final = merged_final.dropna(subset=['drug1_name', 'drug2_name'])\n",
        "drug_pairs_df = drug_pairs_df.dropna(subset=['drug1_name', 'drug2_name'])\n",
        "ddinter = ddinter.dropna(subset=['Drug_A', 'Drug_B'])\n",
        "\n",
        "# Then create unique pair identifiers as before\n",
        "merged_final['pair'] = merged_final.apply(lambda x: '-'.join(sorted([x['drug1_name'], x['drug2_name']])), axis=1)\n",
        "drug_pairs_df['pair'] = drug_pairs_df.apply(lambda x: '-'.join(sorted([x['drug1_name'], x['drug2_name']])), axis=1)\n",
        "ddinter['pair'] = ddinter.apply(lambda x: '-'.join(sorted([x['Drug_A'], x['Drug_B']])), axis=1)\n",
        "# Example for one DataFrame, apply the same logic for others\n",
        "if 'drug1_name' in merged_final.columns and 'drug2_name' in merged_final.columns:\n",
        "    # Ensure there are no NaN values in the columns of interest\n",
        "    merged_final.dropna(subset=['drug1_name', 'drug2_name'], inplace=True)\n",
        "\n",
        "    # Safely apply the function to create 'pair' column\n",
        "    try:\n",
        "        merged_final['pair'] = merged_final.apply(lambda x: '-'.join(sorted([str(x['drug1_name']), str(x['drug2_name'])])), axis=1)\n",
        "    except Exception as e:\n",
        "        print(f\"An error occurred: {e}\")\n",
        "\n",
        "# Do similar checks and operations for drug_pairs_df and ddinter\n",
        "\n",
        "# Find overlaps\n",
        "overlap_1_2 = set(merged_final['pair']).intersection(set(drug_pairs_df['pair']))\n",
        "overlap_1_3 = set(merged_final['pair']).intersection(set(ddinter['pair']))\n",
        "overlap_2_3 = set(drug_pairs_df['pair']).intersection(set(ddinter['pair']))\n",
        "\n",
        "# Print overlap information\n",
        "print(f\"Overlap between merged_final and drug_pairs_df: {len(overlap_1_2)} pairs\")\n",
        "print(f\"Overlap between merged_final and ddinter: {len(overlap_1_3)} pairs\")\n",
        "print(f\"Overlap between drug_pairs_df and ddinter: {len(overlap_2_3)} pairs\")\n",
        "\n",
        "# For a comprehensive overlap across all three datasets\n",
        "overlap_all = set(merged_final['pair']).intersection(drug_pairs_df['pair'], ddinter['pair'])\n",
        "print(f\"Overlap across all three datasets: {len(overlap_all)} pairs\")\n",
        "\n"
      ]
    }
  ],
  "metadata": {
    "kernelspec": {
      "display_name": "Python 3",
      "name": "python3"
    },
    "language_info": {
      "codemirror_mode": {
        "name": "ipython",
        "version": 3
      },
      "file_extension": ".py",
      "mimetype": "text/x-python",
      "name": "python",
      "nbconvert_exporter": "python",
      "pygments_lexer": "ipython3",
      "version": "3.7.16"
    },
    "orig_nbformat": 4,
    "colab": {
      "provenance": [],
      "include_colab_link": true
    }
  },
  "nbformat": 4,
  "nbformat_minor": 0
}